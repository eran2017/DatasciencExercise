{
  "metadata": {
    "kernelspec": {
      "name": "python",
      "display_name": "Python (Pyodide)",
      "language": "python"
    },
    "language_info": {
      "codemirror_mode": {
        "name": "python",
        "version": 3
      },
      "file_extension": ".py",
      "mimetype": "text/x-python",
      "name": "python",
      "nbconvert_exporter": "python",
      "pygments_lexer": "ipython3",
      "version": "3.8"
    }
  },
  "nbformat_minor": 4,
  "nbformat": 4,
  "cells": [
    {
      "cell_type": "markdown",
      "source": "## Exercise 2: Create markdown cell with title of the notebook\nData Science Tools and Ecosystem",
      "metadata": {}
    },
    {
      "cell_type": "markdown",
      "source": "Exercise 3: In this notebook, Data Science Tools and Ecosystem are summarized.",
      "metadata": {}
    },
    {
      "cell_type": "markdown",
      "source": "**Exercise 10: Objectives**\n- Python\n- R\n- Java\n- Julia\n- C++",
      "metadata": {}
    },
    {
      "cell_type": "markdown",
      "source": "Exercise 4: Some of the popular languages that Data Scientists use are:\n1. Python\n2. R\n3. Java\n4. C++",
      "metadata": {}
    },
    {
      "cell_type": "markdown",
      "source": "Exercise 5: Some of the commonly used libraries used by Data Scientists include:\n1. NumPy\n2. Panda\n3. Scikit",
      "metadata": {}
    },
    {
      "cell_type": "markdown",
      "source": "# Exercise 6: Create a markdown cell with a table of Data Science tools\n| Data Science Tools |\n--------------------\n| MySQL |\n| ApacheAirflow |\n| PixieDust |",
      "metadata": {}
    },
    {
      "cell_type": "markdown",
      "source": "### Exercise 7 - Below are a few examples of evaluating arithmetic expressions in Python",
      "metadata": {}
    },
    {
      "cell_type": "code",
      "source": "# Exercise 8: This a simple arithmetic expression to mutiply then add integers\n(3*4)+5",
      "metadata": {
        "trusted": true
      },
      "outputs": [
        {
          "execution_count": 4,
          "output_type": "execute_result",
          "data": {
            "text/plain": "17"
          },
          "metadata": {}
        }
      ],
      "execution_count": 4
    },
    {
      "cell_type": "markdown",
      "source": "## Exercise 11: Author\nEranna S",
      "metadata": {}
    },
    {
      "cell_type": "code",
      "source": "",
      "metadata": {
        "trusted": true
      },
      "outputs": [],
      "execution_count": null
    }
  ]
}